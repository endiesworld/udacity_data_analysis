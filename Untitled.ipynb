{
 "cells": [
  {
   "cell_type": "code",
   "execution_count": 1,
   "id": "272472d8",
   "metadata": {},
   "outputs": [],
   "source": [
    "import numpy as np\n",
    "import pandas as pd"
   ]
  },
  {
   "cell_type": "code",
   "execution_count": 2,
   "id": "92a6b9a6",
   "metadata": {},
   "outputs": [
    {
     "name": "stdout",
     "output_type": "stream",
     "text": [
      "The shape of enrollments data is: (1640, 7)\n"
     ]
    },
    {
     "data": {
      "text/html": [
       "<div>\n",
       "<style scoped>\n",
       "    .dataframe tbody tr th:only-of-type {\n",
       "        vertical-align: middle;\n",
       "    }\n",
       "\n",
       "    .dataframe tbody tr th {\n",
       "        vertical-align: top;\n",
       "    }\n",
       "\n",
       "    .dataframe thead th {\n",
       "        text-align: right;\n",
       "    }\n",
       "</style>\n",
       "<table border=\"1\" class=\"dataframe\">\n",
       "  <thead>\n",
       "    <tr style=\"text-align: right;\">\n",
       "      <th></th>\n",
       "      <th>account_key</th>\n",
       "      <th>status</th>\n",
       "      <th>join_date</th>\n",
       "      <th>cancel_date</th>\n",
       "      <th>days_to_cancel</th>\n",
       "      <th>is_udacity</th>\n",
       "      <th>is_canceled</th>\n",
       "    </tr>\n",
       "  </thead>\n",
       "  <tbody>\n",
       "    <tr>\n",
       "      <th>0</th>\n",
       "      <td>448</td>\n",
       "      <td>canceled</td>\n",
       "      <td>2014-11-10</td>\n",
       "      <td>2015-01-14</td>\n",
       "      <td>65.0</td>\n",
       "      <td>True</td>\n",
       "      <td>True</td>\n",
       "    </tr>\n",
       "    <tr>\n",
       "      <th>1</th>\n",
       "      <td>448</td>\n",
       "      <td>canceled</td>\n",
       "      <td>2014-11-05</td>\n",
       "      <td>2014-11-10</td>\n",
       "      <td>5.0</td>\n",
       "      <td>True</td>\n",
       "      <td>True</td>\n",
       "    </tr>\n",
       "    <tr>\n",
       "      <th>2</th>\n",
       "      <td>448</td>\n",
       "      <td>canceled</td>\n",
       "      <td>2015-01-27</td>\n",
       "      <td>2015-01-27</td>\n",
       "      <td>0.0</td>\n",
       "      <td>True</td>\n",
       "      <td>True</td>\n",
       "    </tr>\n",
       "    <tr>\n",
       "      <th>3</th>\n",
       "      <td>448</td>\n",
       "      <td>canceled</td>\n",
       "      <td>2014-11-10</td>\n",
       "      <td>2014-11-10</td>\n",
       "      <td>0.0</td>\n",
       "      <td>True</td>\n",
       "      <td>True</td>\n",
       "    </tr>\n",
       "    <tr>\n",
       "      <th>4</th>\n",
       "      <td>448</td>\n",
       "      <td>current</td>\n",
       "      <td>2015-03-10</td>\n",
       "      <td>NaN</td>\n",
       "      <td>NaN</td>\n",
       "      <td>True</td>\n",
       "      <td>False</td>\n",
       "    </tr>\n",
       "  </tbody>\n",
       "</table>\n",
       "</div>"
      ],
      "text/plain": [
       "   account_key    status   join_date cancel_date  days_to_cancel  is_udacity  \\\n",
       "0          448  canceled  2014-11-10  2015-01-14            65.0        True   \n",
       "1          448  canceled  2014-11-05  2014-11-10             5.0        True   \n",
       "2          448  canceled  2015-01-27  2015-01-27             0.0        True   \n",
       "3          448  canceled  2014-11-10  2014-11-10             0.0        True   \n",
       "4          448   current  2015-03-10         NaN             NaN        True   \n",
       "\n",
       "   is_canceled  \n",
       "0         True  \n",
       "1         True  \n",
       "2         True  \n",
       "3         True  \n",
       "4        False  "
      ]
     },
     "execution_count": 2,
     "metadata": {},
     "output_type": "execute_result"
    }
   ],
   "source": [
    "enrollments = pd.read_csv('dataset/enrollments.csv')\n",
    "print(f'The shape of enrollments data is: {enrollments.shape}')\n",
    "enrollments.head()"
   ]
  },
  {
   "cell_type": "code",
   "execution_count": 3,
   "id": "8baa249a",
   "metadata": {},
   "outputs": [
    {
     "name": "stdout",
     "output_type": "stream",
     "text": [
      "The shape of engagement data is: (136240, 6)\n"
     ]
    },
    {
     "data": {
      "text/html": [
       "<div>\n",
       "<style scoped>\n",
       "    .dataframe tbody tr th:only-of-type {\n",
       "        vertical-align: middle;\n",
       "    }\n",
       "\n",
       "    .dataframe tbody tr th {\n",
       "        vertical-align: top;\n",
       "    }\n",
       "\n",
       "    .dataframe thead th {\n",
       "        text-align: right;\n",
       "    }\n",
       "</style>\n",
       "<table border=\"1\" class=\"dataframe\">\n",
       "  <thead>\n",
       "    <tr style=\"text-align: right;\">\n",
       "      <th></th>\n",
       "      <th>acct</th>\n",
       "      <th>utc_date</th>\n",
       "      <th>num_courses_visited</th>\n",
       "      <th>total_minutes_visited</th>\n",
       "      <th>lessons_completed</th>\n",
       "      <th>projects_completed</th>\n",
       "    </tr>\n",
       "  </thead>\n",
       "  <tbody>\n",
       "    <tr>\n",
       "      <th>0</th>\n",
       "      <td>0</td>\n",
       "      <td>2015-01-09</td>\n",
       "      <td>1.0</td>\n",
       "      <td>11.679374</td>\n",
       "      <td>0.0</td>\n",
       "      <td>0.0</td>\n",
       "    </tr>\n",
       "    <tr>\n",
       "      <th>1</th>\n",
       "      <td>0</td>\n",
       "      <td>2015-01-10</td>\n",
       "      <td>2.0</td>\n",
       "      <td>37.284887</td>\n",
       "      <td>0.0</td>\n",
       "      <td>0.0</td>\n",
       "    </tr>\n",
       "    <tr>\n",
       "      <th>2</th>\n",
       "      <td>0</td>\n",
       "      <td>2015-01-11</td>\n",
       "      <td>2.0</td>\n",
       "      <td>53.633746</td>\n",
       "      <td>0.0</td>\n",
       "      <td>0.0</td>\n",
       "    </tr>\n",
       "    <tr>\n",
       "      <th>3</th>\n",
       "      <td>0</td>\n",
       "      <td>2015-01-12</td>\n",
       "      <td>1.0</td>\n",
       "      <td>33.489270</td>\n",
       "      <td>0.0</td>\n",
       "      <td>0.0</td>\n",
       "    </tr>\n",
       "    <tr>\n",
       "      <th>4</th>\n",
       "      <td>0</td>\n",
       "      <td>2015-01-13</td>\n",
       "      <td>1.0</td>\n",
       "      <td>64.779678</td>\n",
       "      <td>0.0</td>\n",
       "      <td>0.0</td>\n",
       "    </tr>\n",
       "  </tbody>\n",
       "</table>\n",
       "</div>"
      ],
      "text/plain": [
       "   acct    utc_date  num_courses_visited  total_minutes_visited  \\\n",
       "0     0  2015-01-09                  1.0              11.679374   \n",
       "1     0  2015-01-10                  2.0              37.284887   \n",
       "2     0  2015-01-11                  2.0              53.633746   \n",
       "3     0  2015-01-12                  1.0              33.489270   \n",
       "4     0  2015-01-13                  1.0              64.779678   \n",
       "\n",
       "   lessons_completed  projects_completed  \n",
       "0                0.0                 0.0  \n",
       "1                0.0                 0.0  \n",
       "2                0.0                 0.0  \n",
       "3                0.0                 0.0  \n",
       "4                0.0                 0.0  "
      ]
     },
     "execution_count": 3,
     "metadata": {},
     "output_type": "execute_result"
    }
   ],
   "source": [
    "engagement = pd.read_csv('dataset/daily_engagement.csv')\n",
    "print(f'The shape of engagement data is: {engagement.shape}')\n",
    "engagement.head()"
   ]
  },
  {
   "cell_type": "code",
   "execution_count": 4,
   "id": "441f0e2c",
   "metadata": {},
   "outputs": [
    {
     "name": "stdout",
     "output_type": "stream",
     "text": [
      "The shape of submissions data is: (3642, 6)\n"
     ]
    },
    {
     "data": {
      "text/html": [
       "<div>\n",
       "<style scoped>\n",
       "    .dataframe tbody tr th:only-of-type {\n",
       "        vertical-align: middle;\n",
       "    }\n",
       "\n",
       "    .dataframe tbody tr th {\n",
       "        vertical-align: top;\n",
       "    }\n",
       "\n",
       "    .dataframe thead th {\n",
       "        text-align: right;\n",
       "    }\n",
       "</style>\n",
       "<table border=\"1\" class=\"dataframe\">\n",
       "  <thead>\n",
       "    <tr style=\"text-align: right;\">\n",
       "      <th></th>\n",
       "      <th>creation_date</th>\n",
       "      <th>completion_date</th>\n",
       "      <th>assigned_rating</th>\n",
       "      <th>account_key</th>\n",
       "      <th>lesson_key</th>\n",
       "      <th>processing_state</th>\n",
       "    </tr>\n",
       "  </thead>\n",
       "  <tbody>\n",
       "    <tr>\n",
       "      <th>0</th>\n",
       "      <td>2015-01-14</td>\n",
       "      <td>2015-01-16</td>\n",
       "      <td>UNGRADED</td>\n",
       "      <td>256</td>\n",
       "      <td>3176718735</td>\n",
       "      <td>EVALUATED</td>\n",
       "    </tr>\n",
       "    <tr>\n",
       "      <th>1</th>\n",
       "      <td>2015-01-10</td>\n",
       "      <td>2015-01-13</td>\n",
       "      <td>INCOMPLETE</td>\n",
       "      <td>256</td>\n",
       "      <td>3176718735</td>\n",
       "      <td>EVALUATED</td>\n",
       "    </tr>\n",
       "    <tr>\n",
       "      <th>2</th>\n",
       "      <td>2015-01-20</td>\n",
       "      <td>2015-01-20</td>\n",
       "      <td>PASSED</td>\n",
       "      <td>256</td>\n",
       "      <td>3176718735</td>\n",
       "      <td>EVALUATED</td>\n",
       "    </tr>\n",
       "    <tr>\n",
       "      <th>3</th>\n",
       "      <td>2015-03-10</td>\n",
       "      <td>2015-03-13</td>\n",
       "      <td>PASSED</td>\n",
       "      <td>434</td>\n",
       "      <td>3176718735</td>\n",
       "      <td>EVALUATED</td>\n",
       "    </tr>\n",
       "    <tr>\n",
       "      <th>4</th>\n",
       "      <td>2015-02-17</td>\n",
       "      <td>2015-03-03</td>\n",
       "      <td>INCOMPLETE</td>\n",
       "      <td>434</td>\n",
       "      <td>3176718735</td>\n",
       "      <td>EVALUATED</td>\n",
       "    </tr>\n",
       "  </tbody>\n",
       "</table>\n",
       "</div>"
      ],
      "text/plain": [
       "  creation_date completion_date assigned_rating  account_key  lesson_key  \\\n",
       "0    2015-01-14      2015-01-16        UNGRADED          256  3176718735   \n",
       "1    2015-01-10      2015-01-13      INCOMPLETE          256  3176718735   \n",
       "2    2015-01-20      2015-01-20          PASSED          256  3176718735   \n",
       "3    2015-03-10      2015-03-13          PASSED          434  3176718735   \n",
       "4    2015-02-17      2015-03-03      INCOMPLETE          434  3176718735   \n",
       "\n",
       "  processing_state  \n",
       "0        EVALUATED  \n",
       "1        EVALUATED  \n",
       "2        EVALUATED  \n",
       "3        EVALUATED  \n",
       "4        EVALUATED  "
      ]
     },
     "execution_count": 4,
     "metadata": {},
     "output_type": "execute_result"
    }
   ],
   "source": [
    "submissions = pd.read_csv('dataset/project_submissions.csv')\n",
    "print(f'The shape of submissions data is: {submissions.shape}')\n",
    "submissions.head()"
   ]
  },
  {
   "cell_type": "markdown",
   "id": "8a2ebc8e",
   "metadata": {},
   "source": [
    "## Check types of data in each Dataframe and convert to appropriate types"
   ]
  },
  {
   "cell_type": "markdown",
   "id": "1f82abfe",
   "metadata": {},
   "source": [
    "### enrollments dataset"
   ]
  },
  {
   "cell_type": "code",
   "execution_count": 5,
   "id": "60778407",
   "metadata": {},
   "outputs": [
    {
     "name": "stdout",
     "output_type": "stream",
     "text": [
      "<class 'pandas.core.frame.DataFrame'>\n",
      "RangeIndex: 1640 entries, 0 to 1639\n",
      "Data columns (total 7 columns):\n",
      " #   Column          Non-Null Count  Dtype  \n",
      "---  ------          --------------  -----  \n",
      " 0   account_key     1640 non-null   int64  \n",
      " 1   status          1640 non-null   object \n",
      " 2   join_date       1640 non-null   object \n",
      " 3   cancel_date     988 non-null    object \n",
      " 4   days_to_cancel  988 non-null    float64\n",
      " 5   is_udacity      1640 non-null   bool   \n",
      " 6   is_canceled     1640 non-null   bool   \n",
      "dtypes: bool(2), float64(1), int64(1), object(3)\n",
      "memory usage: 67.4+ KB\n"
     ]
    }
   ],
   "source": [
    "enrollments.info()"
   ]
  },
  {
   "cell_type": "code",
   "execution_count": 6,
   "id": "af973e5a",
   "metadata": {},
   "outputs": [
    {
     "name": "stdout",
     "output_type": "stream",
     "text": [
      "<class 'pandas.core.frame.DataFrame'>\n",
      "RangeIndex: 1640 entries, 0 to 1639\n",
      "Data columns (total 7 columns):\n",
      " #   Column          Non-Null Count  Dtype         \n",
      "---  ------          --------------  -----         \n",
      " 0   account_key     1640 non-null   int64         \n",
      " 1   status          1640 non-null   object        \n",
      " 2   join_date       1640 non-null   datetime64[ns]\n",
      " 3   cancel_date     988 non-null    datetime64[ns]\n",
      " 4   days_to_cancel  988 non-null    float64       \n",
      " 5   is_udacity      1640 non-null   bool          \n",
      " 6   is_canceled     1640 non-null   bool          \n",
      "dtypes: bool(2), datetime64[ns](2), float64(1), int64(1), object(1)\n",
      "memory usage: 67.4+ KB\n"
     ]
    }
   ],
   "source": [
    "# Convert columns to desired data types\n",
    "enrollments['join_date'] = pd.to_datetime(enrollments['join_date'])\n",
    "enrollments['cancel_date'] = pd.to_datetime(enrollments['cancel_date'])\n",
    "enrollments = enrollments.astype({'status': str})\n",
    "enrollments = enrollments.astype({'days_to_cancel': int}, errors = 'ignore')\n",
    "enrollments.info()"
   ]
  },
  {
   "cell_type": "code",
   "execution_count": 7,
   "id": "0fdb62ee",
   "metadata": {},
   "outputs": [
    {
     "data": {
      "text/html": [
       "<div>\n",
       "<style scoped>\n",
       "    .dataframe tbody tr th:only-of-type {\n",
       "        vertical-align: middle;\n",
       "    }\n",
       "\n",
       "    .dataframe tbody tr th {\n",
       "        vertical-align: top;\n",
       "    }\n",
       "\n",
       "    .dataframe thead th {\n",
       "        text-align: right;\n",
       "    }\n",
       "</style>\n",
       "<table border=\"1\" class=\"dataframe\">\n",
       "  <thead>\n",
       "    <tr style=\"text-align: right;\">\n",
       "      <th></th>\n",
       "      <th>account_key</th>\n",
       "      <th>status</th>\n",
       "      <th>join_date</th>\n",
       "      <th>cancel_date</th>\n",
       "      <th>days_to_cancel</th>\n",
       "      <th>is_udacity</th>\n",
       "      <th>is_canceled</th>\n",
       "    </tr>\n",
       "  </thead>\n",
       "  <tbody>\n",
       "    <tr>\n",
       "      <th>0</th>\n",
       "      <td>448</td>\n",
       "      <td>canceled</td>\n",
       "      <td>2014-11-10</td>\n",
       "      <td>2015-01-14</td>\n",
       "      <td>65.0</td>\n",
       "      <td>True</td>\n",
       "      <td>True</td>\n",
       "    </tr>\n",
       "    <tr>\n",
       "      <th>1</th>\n",
       "      <td>448</td>\n",
       "      <td>canceled</td>\n",
       "      <td>2014-11-05</td>\n",
       "      <td>2014-11-10</td>\n",
       "      <td>5.0</td>\n",
       "      <td>True</td>\n",
       "      <td>True</td>\n",
       "    </tr>\n",
       "    <tr>\n",
       "      <th>2</th>\n",
       "      <td>448</td>\n",
       "      <td>canceled</td>\n",
       "      <td>2015-01-27</td>\n",
       "      <td>2015-01-27</td>\n",
       "      <td>0.0</td>\n",
       "      <td>True</td>\n",
       "      <td>True</td>\n",
       "    </tr>\n",
       "    <tr>\n",
       "      <th>3</th>\n",
       "      <td>448</td>\n",
       "      <td>canceled</td>\n",
       "      <td>2014-11-10</td>\n",
       "      <td>2014-11-10</td>\n",
       "      <td>0.0</td>\n",
       "      <td>True</td>\n",
       "      <td>True</td>\n",
       "    </tr>\n",
       "    <tr>\n",
       "      <th>4</th>\n",
       "      <td>448</td>\n",
       "      <td>current</td>\n",
       "      <td>2015-03-10</td>\n",
       "      <td>NaT</td>\n",
       "      <td>NaN</td>\n",
       "      <td>True</td>\n",
       "      <td>False</td>\n",
       "    </tr>\n",
       "  </tbody>\n",
       "</table>\n",
       "</div>"
      ],
      "text/plain": [
       "   account_key    status  join_date cancel_date  days_to_cancel  is_udacity  \\\n",
       "0          448  canceled 2014-11-10  2015-01-14            65.0        True   \n",
       "1          448  canceled 2014-11-05  2014-11-10             5.0        True   \n",
       "2          448  canceled 2015-01-27  2015-01-27             0.0        True   \n",
       "3          448  canceled 2014-11-10  2014-11-10             0.0        True   \n",
       "4          448   current 2015-03-10         NaT             NaN        True   \n",
       "\n",
       "   is_canceled  \n",
       "0         True  \n",
       "1         True  \n",
       "2         True  \n",
       "3         True  \n",
       "4        False  "
      ]
     },
     "execution_count": 7,
     "metadata": {},
     "output_type": "execute_result"
    }
   ],
   "source": [
    "enrollments.head()"
   ]
  },
  {
   "cell_type": "markdown",
   "id": "ec2404bc",
   "metadata": {},
   "source": [
    "### engagement dataset"
   ]
  },
  {
   "cell_type": "code",
   "execution_count": 8,
   "id": "04351e84",
   "metadata": {},
   "outputs": [
    {
     "name": "stdout",
     "output_type": "stream",
     "text": [
      "<class 'pandas.core.frame.DataFrame'>\n",
      "RangeIndex: 136240 entries, 0 to 136239\n",
      "Data columns (total 6 columns):\n",
      " #   Column                 Non-Null Count   Dtype  \n",
      "---  ------                 --------------   -----  \n",
      " 0   acct                   136240 non-null  int64  \n",
      " 1   utc_date               136240 non-null  object \n",
      " 2   num_courses_visited    136240 non-null  float64\n",
      " 3   total_minutes_visited  136240 non-null  float64\n",
      " 4   lessons_completed      136240 non-null  float64\n",
      " 5   projects_completed     136240 non-null  float64\n",
      "dtypes: float64(4), int64(1), object(1)\n",
      "memory usage: 6.2+ MB\n"
     ]
    }
   ],
   "source": [
    "engagement.info()"
   ]
  },
  {
   "cell_type": "code",
   "execution_count": 9,
   "id": "44b7352d",
   "metadata": {},
   "outputs": [
    {
     "name": "stdout",
     "output_type": "stream",
     "text": [
      "<class 'pandas.core.frame.DataFrame'>\n",
      "RangeIndex: 136240 entries, 0 to 136239\n",
      "Data columns (total 6 columns):\n",
      " #   Column                 Non-Null Count   Dtype         \n",
      "---  ------                 --------------   -----         \n",
      " 0   acct                   136240 non-null  int64         \n",
      " 1   utc_date               136240 non-null  datetime64[ns]\n",
      " 2   num_courses_visited    136240 non-null  float64       \n",
      " 3   total_minutes_visited  136240 non-null  float64       \n",
      " 4   lessons_completed      136240 non-null  float64       \n",
      " 5   projects_completed     136240 non-null  float64       \n",
      "dtypes: datetime64[ns](1), float64(4), int64(1)\n",
      "memory usage: 6.2 MB\n"
     ]
    }
   ],
   "source": [
    "# Convert columns to desired data types\n",
    "engagement['utc_date'] = pd.to_datetime(engagement['utc_date'])\n",
    "engagement.info()"
   ]
  },
  {
   "cell_type": "code",
   "execution_count": 10,
   "id": "f6873d63",
   "metadata": {},
   "outputs": [
    {
     "data": {
      "text/html": [
       "<div>\n",
       "<style scoped>\n",
       "    .dataframe tbody tr th:only-of-type {\n",
       "        vertical-align: middle;\n",
       "    }\n",
       "\n",
       "    .dataframe tbody tr th {\n",
       "        vertical-align: top;\n",
       "    }\n",
       "\n",
       "    .dataframe thead th {\n",
       "        text-align: right;\n",
       "    }\n",
       "</style>\n",
       "<table border=\"1\" class=\"dataframe\">\n",
       "  <thead>\n",
       "    <tr style=\"text-align: right;\">\n",
       "      <th></th>\n",
       "      <th>acct</th>\n",
       "      <th>utc_date</th>\n",
       "      <th>num_courses_visited</th>\n",
       "      <th>total_minutes_visited</th>\n",
       "      <th>lessons_completed</th>\n",
       "      <th>projects_completed</th>\n",
       "    </tr>\n",
       "  </thead>\n",
       "  <tbody>\n",
       "    <tr>\n",
       "      <th>0</th>\n",
       "      <td>0</td>\n",
       "      <td>2015-01-09</td>\n",
       "      <td>1.0</td>\n",
       "      <td>11.679374</td>\n",
       "      <td>0.0</td>\n",
       "      <td>0.0</td>\n",
       "    </tr>\n",
       "    <tr>\n",
       "      <th>1</th>\n",
       "      <td>0</td>\n",
       "      <td>2015-01-10</td>\n",
       "      <td>2.0</td>\n",
       "      <td>37.284887</td>\n",
       "      <td>0.0</td>\n",
       "      <td>0.0</td>\n",
       "    </tr>\n",
       "    <tr>\n",
       "      <th>2</th>\n",
       "      <td>0</td>\n",
       "      <td>2015-01-11</td>\n",
       "      <td>2.0</td>\n",
       "      <td>53.633746</td>\n",
       "      <td>0.0</td>\n",
       "      <td>0.0</td>\n",
       "    </tr>\n",
       "    <tr>\n",
       "      <th>3</th>\n",
       "      <td>0</td>\n",
       "      <td>2015-01-12</td>\n",
       "      <td>1.0</td>\n",
       "      <td>33.489270</td>\n",
       "      <td>0.0</td>\n",
       "      <td>0.0</td>\n",
       "    </tr>\n",
       "    <tr>\n",
       "      <th>4</th>\n",
       "      <td>0</td>\n",
       "      <td>2015-01-13</td>\n",
       "      <td>1.0</td>\n",
       "      <td>64.779678</td>\n",
       "      <td>0.0</td>\n",
       "      <td>0.0</td>\n",
       "    </tr>\n",
       "  </tbody>\n",
       "</table>\n",
       "</div>"
      ],
      "text/plain": [
       "   acct   utc_date  num_courses_visited  total_minutes_visited  \\\n",
       "0     0 2015-01-09                  1.0              11.679374   \n",
       "1     0 2015-01-10                  2.0              37.284887   \n",
       "2     0 2015-01-11                  2.0              53.633746   \n",
       "3     0 2015-01-12                  1.0              33.489270   \n",
       "4     0 2015-01-13                  1.0              64.779678   \n",
       "\n",
       "   lessons_completed  projects_completed  \n",
       "0                0.0                 0.0  \n",
       "1                0.0                 0.0  \n",
       "2                0.0                 0.0  \n",
       "3                0.0                 0.0  \n",
       "4                0.0                 0.0  "
      ]
     },
     "execution_count": 10,
     "metadata": {},
     "output_type": "execute_result"
    }
   ],
   "source": [
    "engagement.head()"
   ]
  },
  {
   "cell_type": "markdown",
   "id": "cdb4c66b",
   "metadata": {},
   "source": [
    "### submissions dataset"
   ]
  },
  {
   "cell_type": "code",
   "execution_count": 11,
   "id": "7370872a",
   "metadata": {},
   "outputs": [
    {
     "name": "stdout",
     "output_type": "stream",
     "text": [
      "<class 'pandas.core.frame.DataFrame'>\n",
      "RangeIndex: 3642 entries, 0 to 3641\n",
      "Data columns (total 6 columns):\n",
      " #   Column            Non-Null Count  Dtype \n",
      "---  ------            --------------  ----- \n",
      " 0   creation_date     3642 non-null   object\n",
      " 1   completion_date   3636 non-null   object\n",
      " 2   assigned_rating   3636 non-null   object\n",
      " 3   account_key       3642 non-null   int64 \n",
      " 4   lesson_key        3642 non-null   int64 \n",
      " 5   processing_state  3642 non-null   object\n",
      "dtypes: int64(2), object(4)\n",
      "memory usage: 170.8+ KB\n"
     ]
    }
   ],
   "source": [
    "submissions.info()"
   ]
  },
  {
   "cell_type": "code",
   "execution_count": 12,
   "id": "d3d6a68e",
   "metadata": {},
   "outputs": [
    {
     "name": "stdout",
     "output_type": "stream",
     "text": [
      "<class 'pandas.core.frame.DataFrame'>\n",
      "RangeIndex: 3642 entries, 0 to 3641\n",
      "Data columns (total 6 columns):\n",
      " #   Column            Non-Null Count  Dtype         \n",
      "---  ------            --------------  -----         \n",
      " 0   creation_date     3642 non-null   datetime64[ns]\n",
      " 1   completion_date   3636 non-null   datetime64[ns]\n",
      " 2   assigned_rating   3636 non-null   object        \n",
      " 3   account_key       3642 non-null   int64         \n",
      " 4   lesson_key        3642 non-null   int64         \n",
      " 5   processing_state  3642 non-null   object        \n",
      "dtypes: datetime64[ns](2), int64(2), object(2)\n",
      "memory usage: 170.8+ KB\n"
     ]
    }
   ],
   "source": [
    "submissions['creation_date'] =  pd.to_datetime(submissions['creation_date'])\n",
    "submissions['completion_date'] =  pd.to_datetime(submissions['completion_date'])\n",
    "submissions.info()"
   ]
  },
  {
   "cell_type": "code",
   "execution_count": 13,
   "id": "0f9214aa",
   "metadata": {},
   "outputs": [
    {
     "data": {
      "text/html": [
       "<div>\n",
       "<style scoped>\n",
       "    .dataframe tbody tr th:only-of-type {\n",
       "        vertical-align: middle;\n",
       "    }\n",
       "\n",
       "    .dataframe tbody tr th {\n",
       "        vertical-align: top;\n",
       "    }\n",
       "\n",
       "    .dataframe thead th {\n",
       "        text-align: right;\n",
       "    }\n",
       "</style>\n",
       "<table border=\"1\" class=\"dataframe\">\n",
       "  <thead>\n",
       "    <tr style=\"text-align: right;\">\n",
       "      <th></th>\n",
       "      <th>creation_date</th>\n",
       "      <th>completion_date</th>\n",
       "      <th>assigned_rating</th>\n",
       "      <th>account_key</th>\n",
       "      <th>lesson_key</th>\n",
       "      <th>processing_state</th>\n",
       "    </tr>\n",
       "  </thead>\n",
       "  <tbody>\n",
       "    <tr>\n",
       "      <th>0</th>\n",
       "      <td>2015-01-14</td>\n",
       "      <td>2015-01-16</td>\n",
       "      <td>UNGRADED</td>\n",
       "      <td>256</td>\n",
       "      <td>3176718735</td>\n",
       "      <td>EVALUATED</td>\n",
       "    </tr>\n",
       "    <tr>\n",
       "      <th>1</th>\n",
       "      <td>2015-01-10</td>\n",
       "      <td>2015-01-13</td>\n",
       "      <td>INCOMPLETE</td>\n",
       "      <td>256</td>\n",
       "      <td>3176718735</td>\n",
       "      <td>EVALUATED</td>\n",
       "    </tr>\n",
       "    <tr>\n",
       "      <th>2</th>\n",
       "      <td>2015-01-20</td>\n",
       "      <td>2015-01-20</td>\n",
       "      <td>PASSED</td>\n",
       "      <td>256</td>\n",
       "      <td>3176718735</td>\n",
       "      <td>EVALUATED</td>\n",
       "    </tr>\n",
       "    <tr>\n",
       "      <th>3</th>\n",
       "      <td>2015-03-10</td>\n",
       "      <td>2015-03-13</td>\n",
       "      <td>PASSED</td>\n",
       "      <td>434</td>\n",
       "      <td>3176718735</td>\n",
       "      <td>EVALUATED</td>\n",
       "    </tr>\n",
       "    <tr>\n",
       "      <th>4</th>\n",
       "      <td>2015-02-17</td>\n",
       "      <td>2015-03-03</td>\n",
       "      <td>INCOMPLETE</td>\n",
       "      <td>434</td>\n",
       "      <td>3176718735</td>\n",
       "      <td>EVALUATED</td>\n",
       "    </tr>\n",
       "  </tbody>\n",
       "</table>\n",
       "</div>"
      ],
      "text/plain": [
       "  creation_date completion_date assigned_rating  account_key  lesson_key  \\\n",
       "0    2015-01-14      2015-01-16        UNGRADED          256  3176718735   \n",
       "1    2015-01-10      2015-01-13      INCOMPLETE          256  3176718735   \n",
       "2    2015-01-20      2015-01-20          PASSED          256  3176718735   \n",
       "3    2015-03-10      2015-03-13          PASSED          434  3176718735   \n",
       "4    2015-02-17      2015-03-03      INCOMPLETE          434  3176718735   \n",
       "\n",
       "  processing_state  \n",
       "0        EVALUATED  \n",
       "1        EVALUATED  \n",
       "2        EVALUATED  \n",
       "3        EVALUATED  \n",
       "4        EVALUATED  "
      ]
     },
     "execution_count": 13,
     "metadata": {},
     "output_type": "execute_result"
    }
   ],
   "source": [
    "submissions.head()"
   ]
  },
  {
   "cell_type": "markdown",
   "id": "5b2c2915",
   "metadata": {},
   "source": [
    "### Some questions to answer\n",
    "\n",
    "- For each of these three tables, find the number of rows in the table and <br>\n",
    "- the number of unique students in the table. "
   ]
  },
  {
   "cell_type": "code",
   "execution_count": 14,
   "id": "45242ca6",
   "metadata": {},
   "outputs": [
    {
     "name": "stdout",
     "output_type": "stream",
     "text": [
      "The enrollment table has 1640 numbers of rows\n",
      "The enrollment table has 1302 numbers of unique students\n"
     ]
    }
   ],
   "source": [
    "# enrollment table\n",
    "n_rows = enrollments.shape\n",
    "en_unique_val = enrollments['account_key'].nunique()\n",
    "print(f'The enrollment table has {n_rows[0]} numbers of rows')\n",
    "print(f'The enrollment table has {en_unique_val} numbers of unique students')"
   ]
  },
  {
   "cell_type": "code",
   "execution_count": 15,
   "id": "208f97e7",
   "metadata": {},
   "outputs": [
    {
     "name": "stdout",
     "output_type": "stream",
     "text": [
      "The engagement table has 136240 numbers of rows\n",
      "The engagement table has 1237 numbers of unique students\n"
     ]
    }
   ],
   "source": [
    "# engagement table\n",
    "n_rows = engagement.shape\n",
    "en_unique_val = engagement['acct'].nunique()\n",
    "print(f'The engagement table has {n_rows[0]} numbers of rows')\n",
    "print(f'The engagement table has {en_unique_val} numbers of unique students')\n"
   ]
  },
  {
   "cell_type": "code",
   "execution_count": 16,
   "id": "e1e63d3f",
   "metadata": {},
   "outputs": [
    {
     "name": "stdout",
     "output_type": "stream",
     "text": [
      "The submissions table has 3642 numbers of rows\n",
      "The submissions table has 743 numbers of unique students\n"
     ]
    }
   ],
   "source": [
    "# submissions table\n",
    "n_rows = submissions.shape\n",
    "en_unique_val = submissions['account_key'].nunique()\n",
    "print(f'The submissions table has {n_rows[0]} numbers of rows')\n",
    "print(f'The submissions table has {en_unique_val} numbers of unique students')"
   ]
  },
  {
   "cell_type": "markdown",
   "id": "54cfcc9e",
   "metadata": {},
   "source": [
    "#### Problems\n",
    "- Why are there more students in the enrollment table than any other tables ? <br>\n",
    "- Why is the student account column name diffrent inthe engagement table compared to the other two ?"
   ]
  },
  {
   "cell_type": "code",
   "execution_count": 17,
   "id": "44a3a492",
   "metadata": {},
   "outputs": [
    {
     "data": {
      "text/html": [
       "<div>\n",
       "<style scoped>\n",
       "    .dataframe tbody tr th:only-of-type {\n",
       "        vertical-align: middle;\n",
       "    }\n",
       "\n",
       "    .dataframe tbody tr th {\n",
       "        vertical-align: top;\n",
       "    }\n",
       "\n",
       "    .dataframe thead th {\n",
       "        text-align: right;\n",
       "    }\n",
       "</style>\n",
       "<table border=\"1\" class=\"dataframe\">\n",
       "  <thead>\n",
       "    <tr style=\"text-align: right;\">\n",
       "      <th></th>\n",
       "      <th>account_key</th>\n",
       "      <th>utc_date</th>\n",
       "      <th>num_courses_visited</th>\n",
       "      <th>total_minutes_visited</th>\n",
       "      <th>lessons_completed</th>\n",
       "      <th>projects_completed</th>\n",
       "    </tr>\n",
       "  </thead>\n",
       "  <tbody>\n",
       "    <tr>\n",
       "      <th>0</th>\n",
       "      <td>0</td>\n",
       "      <td>2015-01-09</td>\n",
       "      <td>1.0</td>\n",
       "      <td>11.679374</td>\n",
       "      <td>0.0</td>\n",
       "      <td>0.0</td>\n",
       "    </tr>\n",
       "    <tr>\n",
       "      <th>1</th>\n",
       "      <td>0</td>\n",
       "      <td>2015-01-10</td>\n",
       "      <td>2.0</td>\n",
       "      <td>37.284887</td>\n",
       "      <td>0.0</td>\n",
       "      <td>0.0</td>\n",
       "    </tr>\n",
       "    <tr>\n",
       "      <th>2</th>\n",
       "      <td>0</td>\n",
       "      <td>2015-01-11</td>\n",
       "      <td>2.0</td>\n",
       "      <td>53.633746</td>\n",
       "      <td>0.0</td>\n",
       "      <td>0.0</td>\n",
       "    </tr>\n",
       "    <tr>\n",
       "      <th>3</th>\n",
       "      <td>0</td>\n",
       "      <td>2015-01-12</td>\n",
       "      <td>1.0</td>\n",
       "      <td>33.489270</td>\n",
       "      <td>0.0</td>\n",
       "      <td>0.0</td>\n",
       "    </tr>\n",
       "    <tr>\n",
       "      <th>4</th>\n",
       "      <td>0</td>\n",
       "      <td>2015-01-13</td>\n",
       "      <td>1.0</td>\n",
       "      <td>64.779678</td>\n",
       "      <td>0.0</td>\n",
       "      <td>0.0</td>\n",
       "    </tr>\n",
       "  </tbody>\n",
       "</table>\n",
       "</div>"
      ],
      "text/plain": [
       "   account_key   utc_date  num_courses_visited  total_minutes_visited  \\\n",
       "0            0 2015-01-09                  1.0              11.679374   \n",
       "1            0 2015-01-10                  2.0              37.284887   \n",
       "2            0 2015-01-11                  2.0              53.633746   \n",
       "3            0 2015-01-12                  1.0              33.489270   \n",
       "4            0 2015-01-13                  1.0              64.779678   \n",
       "\n",
       "   lessons_completed  projects_completed  \n",
       "0                0.0                 0.0  \n",
       "1                0.0                 0.0  \n",
       "2                0.0                 0.0  \n",
       "3                0.0                 0.0  \n",
       "4                0.0                 0.0  "
      ]
     },
     "execution_count": 17,
     "metadata": {},
     "output_type": "execute_result"
    }
   ],
   "source": [
    "# Rename the acct column in the engagement table\n",
    "engagement.rename(columns={'acct': 'account_key'}, inplace=True)\n",
    "engagement.head()"
   ]
  },
  {
   "cell_type": "markdown",
   "id": "a68c4d65",
   "metadata": {},
   "source": [
    "### Investigating First Problem \n",
    "- Why are students missing from daily-engagement ?\n",
    "##### Identify surprising surprising data points\n",
    "- Any enrollment record with no corresponding engagement data\n",
    "#### Print out one or a few surprising data points"
   ]
  },
  {
   "cell_type": "code",
   "execution_count": 18,
   "id": "1dc4a91f",
   "metadata": {},
   "outputs": [
    {
     "name": "stdout",
     "output_type": "stream",
     "text": [
      "The numbers of student with no engagement data is: 65\n"
     ]
    }
   ],
   "source": [
    "# No engagement student\n",
    "enrolled_student = enrollments.account_key.unique().tolist()\n",
    "engaged_student = engagement.account_key.unique().tolist()\n",
    "enrolled_not_engaged_student = [x for x in enrolled_student if x not in engaged_student]\n",
    "print(f'The numbers of student with no engagement data is: {len(enrolled_not_engaged_student)}')"
   ]
  },
  {
   "cell_type": "code",
   "execution_count": 19,
   "id": "ce63c109",
   "metadata": {},
   "outputs": [
    {
     "name": "stdout",
     "output_type": "stream",
     "text": [
      "The shape of no engagement data is (71, 7)\n"
     ]
    },
    {
     "data": {
      "text/html": [
       "<div>\n",
       "<style scoped>\n",
       "    .dataframe tbody tr th:only-of-type {\n",
       "        vertical-align: middle;\n",
       "    }\n",
       "\n",
       "    .dataframe tbody tr th {\n",
       "        vertical-align: top;\n",
       "    }\n",
       "\n",
       "    .dataframe thead th {\n",
       "        text-align: right;\n",
       "    }\n",
       "</style>\n",
       "<table border=\"1\" class=\"dataframe\">\n",
       "  <thead>\n",
       "    <tr style=\"text-align: right;\">\n",
       "      <th></th>\n",
       "      <th>account_key</th>\n",
       "      <th>status</th>\n",
       "      <th>join_date</th>\n",
       "      <th>cancel_date</th>\n",
       "      <th>days_to_cancel</th>\n",
       "      <th>is_udacity</th>\n",
       "      <th>is_canceled</th>\n",
       "    </tr>\n",
       "  </thead>\n",
       "  <tbody>\n",
       "    <tr>\n",
       "      <th>65</th>\n",
       "      <td>1219</td>\n",
       "      <td>canceled</td>\n",
       "      <td>2014-11-12</td>\n",
       "      <td>2014-11-12</td>\n",
       "      <td>0.0</td>\n",
       "      <td>False</td>\n",
       "      <td>True</td>\n",
       "    </tr>\n",
       "    <tr>\n",
       "      <th>75</th>\n",
       "      <td>871</td>\n",
       "      <td>canceled</td>\n",
       "      <td>2014-11-13</td>\n",
       "      <td>2014-11-13</td>\n",
       "      <td>0.0</td>\n",
       "      <td>False</td>\n",
       "      <td>True</td>\n",
       "    </tr>\n",
       "    <tr>\n",
       "      <th>193</th>\n",
       "      <td>1218</td>\n",
       "      <td>canceled</td>\n",
       "      <td>2014-11-15</td>\n",
       "      <td>2014-11-15</td>\n",
       "      <td>0.0</td>\n",
       "      <td>False</td>\n",
       "      <td>True</td>\n",
       "    </tr>\n",
       "    <tr>\n",
       "      <th>216</th>\n",
       "      <td>654</td>\n",
       "      <td>canceled</td>\n",
       "      <td>2014-12-04</td>\n",
       "      <td>2014-12-04</td>\n",
       "      <td>0.0</td>\n",
       "      <td>False</td>\n",
       "      <td>True</td>\n",
       "    </tr>\n",
       "    <tr>\n",
       "      <th>217</th>\n",
       "      <td>654</td>\n",
       "      <td>canceled</td>\n",
       "      <td>2014-12-04</td>\n",
       "      <td>2014-12-04</td>\n",
       "      <td>0.0</td>\n",
       "      <td>False</td>\n",
       "      <td>True</td>\n",
       "    </tr>\n",
       "  </tbody>\n",
       "</table>\n",
       "</div>"
      ],
      "text/plain": [
       "     account_key    status  join_date cancel_date  days_to_cancel  is_udacity  \\\n",
       "65          1219  canceled 2014-11-12  2014-11-12             0.0       False   \n",
       "75           871  canceled 2014-11-13  2014-11-13             0.0       False   \n",
       "193         1218  canceled 2014-11-15  2014-11-15             0.0       False   \n",
       "216          654  canceled 2014-12-04  2014-12-04             0.0       False   \n",
       "217          654  canceled 2014-12-04  2014-12-04             0.0       False   \n",
       "\n",
       "     is_canceled  \n",
       "65          True  \n",
       "75          True  \n",
       "193         True  \n",
       "216         True  \n",
       "217         True  "
      ]
     },
     "execution_count": 19,
     "metadata": {},
     "output_type": "execute_result"
    }
   ],
   "source": [
    "# no engagement student data\n",
    "no_engagement_data = enrollments[enrollments['account_key'].isin(enrolled_not_engaged_student)]\n",
    "print(f'The shape of no engagement data is {no_engagement_data.shape}')\n",
    "no_engagement_data.head()"
   ]
  },
  {
   "cell_type": "code",
   "execution_count": 20,
   "id": "b2d5e520",
   "metadata": {},
   "outputs": [
    {
     "name": "stdout",
     "output_type": "stream",
     "text": [
      "The shape of did engagement data is (1569, 7)\n"
     ]
    },
    {
     "data": {
      "text/html": [
       "<div>\n",
       "<style scoped>\n",
       "    .dataframe tbody tr th:only-of-type {\n",
       "        vertical-align: middle;\n",
       "    }\n",
       "\n",
       "    .dataframe tbody tr th {\n",
       "        vertical-align: top;\n",
       "    }\n",
       "\n",
       "    .dataframe thead th {\n",
       "        text-align: right;\n",
       "    }\n",
       "</style>\n",
       "<table border=\"1\" class=\"dataframe\">\n",
       "  <thead>\n",
       "    <tr style=\"text-align: right;\">\n",
       "      <th></th>\n",
       "      <th>account_key</th>\n",
       "      <th>status</th>\n",
       "      <th>join_date</th>\n",
       "      <th>cancel_date</th>\n",
       "      <th>days_to_cancel</th>\n",
       "      <th>is_udacity</th>\n",
       "      <th>is_canceled</th>\n",
       "    </tr>\n",
       "  </thead>\n",
       "  <tbody>\n",
       "    <tr>\n",
       "      <th>0</th>\n",
       "      <td>448</td>\n",
       "      <td>canceled</td>\n",
       "      <td>2014-11-10</td>\n",
       "      <td>2015-01-14</td>\n",
       "      <td>65.0</td>\n",
       "      <td>True</td>\n",
       "      <td>True</td>\n",
       "    </tr>\n",
       "    <tr>\n",
       "      <th>1</th>\n",
       "      <td>448</td>\n",
       "      <td>canceled</td>\n",
       "      <td>2014-11-05</td>\n",
       "      <td>2014-11-10</td>\n",
       "      <td>5.0</td>\n",
       "      <td>True</td>\n",
       "      <td>True</td>\n",
       "    </tr>\n",
       "    <tr>\n",
       "      <th>2</th>\n",
       "      <td>448</td>\n",
       "      <td>canceled</td>\n",
       "      <td>2015-01-27</td>\n",
       "      <td>2015-01-27</td>\n",
       "      <td>0.0</td>\n",
       "      <td>True</td>\n",
       "      <td>True</td>\n",
       "    </tr>\n",
       "    <tr>\n",
       "      <th>3</th>\n",
       "      <td>448</td>\n",
       "      <td>canceled</td>\n",
       "      <td>2014-11-10</td>\n",
       "      <td>2014-11-10</td>\n",
       "      <td>0.0</td>\n",
       "      <td>True</td>\n",
       "      <td>True</td>\n",
       "    </tr>\n",
       "    <tr>\n",
       "      <th>4</th>\n",
       "      <td>448</td>\n",
       "      <td>current</td>\n",
       "      <td>2015-03-10</td>\n",
       "      <td>NaT</td>\n",
       "      <td>NaN</td>\n",
       "      <td>True</td>\n",
       "      <td>False</td>\n",
       "    </tr>\n",
       "  </tbody>\n",
       "</table>\n",
       "</div>"
      ],
      "text/plain": [
       "   account_key    status  join_date cancel_date  days_to_cancel  is_udacity  \\\n",
       "0          448  canceled 2014-11-10  2015-01-14            65.0        True   \n",
       "1          448  canceled 2014-11-05  2014-11-10             5.0        True   \n",
       "2          448  canceled 2015-01-27  2015-01-27             0.0        True   \n",
       "3          448  canceled 2014-11-10  2014-11-10             0.0        True   \n",
       "4          448   current 2015-03-10         NaT             NaN        True   \n",
       "\n",
       "   is_canceled  \n",
       "0         True  \n",
       "1         True  \n",
       "2         True  \n",
       "3         True  \n",
       "4        False  "
      ]
     },
     "execution_count": 20,
     "metadata": {},
     "output_type": "execute_result"
    }
   ],
   "source": [
    "# no engagement student data\n",
    "did_engagement_data = enrollments[enrollments['account_key'].isin(engaged_student)]\n",
    "print(f'The shape of did engagement data is {did_engagement_data.shape}')\n",
    "did_engagement_data.head()"
   ]
  },
  {
   "cell_type": "code",
   "execution_count": 21,
   "id": "1b93e72c",
   "metadata": {},
   "outputs": [
    {
     "data": {
      "text/html": [
       "<div>\n",
       "<style scoped>\n",
       "    .dataframe tbody tr th:only-of-type {\n",
       "        vertical-align: middle;\n",
       "    }\n",
       "\n",
       "    .dataframe tbody tr th {\n",
       "        vertical-align: top;\n",
       "    }\n",
       "\n",
       "    .dataframe thead th {\n",
       "        text-align: right;\n",
       "    }\n",
       "</style>\n",
       "<table border=\"1\" class=\"dataframe\">\n",
       "  <thead>\n",
       "    <tr style=\"text-align: right;\">\n",
       "      <th></th>\n",
       "      <th>account_key</th>\n",
       "      <th>status</th>\n",
       "      <th>join_date</th>\n",
       "      <th>cancel_date</th>\n",
       "      <th>days_to_cancel</th>\n",
       "      <th>is_udacity</th>\n",
       "      <th>is_canceled</th>\n",
       "    </tr>\n",
       "  </thead>\n",
       "  <tbody>\n",
       "    <tr>\n",
       "      <th>1378</th>\n",
       "      <td>1101</td>\n",
       "      <td>current</td>\n",
       "      <td>2015-02-25</td>\n",
       "      <td>NaT</td>\n",
       "      <td>NaN</td>\n",
       "      <td>True</td>\n",
       "      <td>False</td>\n",
       "    </tr>\n",
       "  </tbody>\n",
       "</table>\n",
       "</div>"
      ],
      "text/plain": [
       "      account_key   status  join_date cancel_date  days_to_cancel  is_udacity  \\\n",
       "1378         1101  current 2015-02-25         NaT             NaN        True   \n",
       "\n",
       "      is_canceled  \n",
       "1378        False  "
      ]
     },
     "execution_count": 21,
     "metadata": {},
     "output_type": "execute_result"
    }
   ],
   "source": [
    "# Student with no angagement but with status not canceled with status \n",
    "no_engagement_data[no_engagement_data['status'] != 'canceled'].head()"
   ]
  },
  {
   "cell_type": "code",
   "execution_count": 22,
   "id": "e1023277",
   "metadata": {},
   "outputs": [
    {
     "name": "stdout",
     "output_type": "stream",
     "text": [
      " The numbers of unique account with engagement is 1237 \n"
     ]
    }
   ],
   "source": [
    "# Numbers of unique account keys with engagement\n",
    "print(f' The numbers of unique account with engagement is {did_engagement_data.account_key.nunique()} ' )"
   ]
  },
  {
   "cell_type": "markdown",
   "id": "bd7dfc8c",
   "metadata": {},
   "source": [
    "### How do the numbers in the daily engagement table differ from student who pass the first project\n",
    "**Only look at engagement from first week, and exclude student who cancel within a week.**\n",
    "+ Get the list of student who hasn't canceled yet\n",
    "+ Student who stayed enrolled for more than 7days\n"
   ]
  },
  {
   "cell_type": "code",
   "execution_count": 30,
   "id": "e1125c67",
   "metadata": {},
   "outputs": [
    {
     "name": "stdout",
     "output_type": "stream",
     "text": [
      "The shape of activly engaged student is (1223, 7)\n",
      "While the numbers of distinct students involved is: 997\n"
     ]
    },
    {
     "data": {
      "text/html": [
       "<div>\n",
       "<style scoped>\n",
       "    .dataframe tbody tr th:only-of-type {\n",
       "        vertical-align: middle;\n",
       "    }\n",
       "\n",
       "    .dataframe tbody tr th {\n",
       "        vertical-align: top;\n",
       "    }\n",
       "\n",
       "    .dataframe thead th {\n",
       "        text-align: right;\n",
       "    }\n",
       "</style>\n",
       "<table border=\"1\" class=\"dataframe\">\n",
       "  <thead>\n",
       "    <tr style=\"text-align: right;\">\n",
       "      <th></th>\n",
       "      <th>account_key</th>\n",
       "      <th>status</th>\n",
       "      <th>join_date</th>\n",
       "      <th>cancel_date</th>\n",
       "      <th>days_to_cancel</th>\n",
       "      <th>is_udacity</th>\n",
       "      <th>is_canceled</th>\n",
       "    </tr>\n",
       "  </thead>\n",
       "  <tbody>\n",
       "    <tr>\n",
       "      <th>0</th>\n",
       "      <td>448</td>\n",
       "      <td>canceled</td>\n",
       "      <td>2014-11-10</td>\n",
       "      <td>2015-01-14</td>\n",
       "      <td>65.0</td>\n",
       "      <td>True</td>\n",
       "      <td>True</td>\n",
       "    </tr>\n",
       "    <tr>\n",
       "      <th>4</th>\n",
       "      <td>448</td>\n",
       "      <td>current</td>\n",
       "      <td>2015-03-10</td>\n",
       "      <td>NaT</td>\n",
       "      <td>NaN</td>\n",
       "      <td>True</td>\n",
       "      <td>False</td>\n",
       "    </tr>\n",
       "    <tr>\n",
       "      <th>5</th>\n",
       "      <td>448</td>\n",
       "      <td>canceled</td>\n",
       "      <td>2015-01-14</td>\n",
       "      <td>2015-01-27</td>\n",
       "      <td>13.0</td>\n",
       "      <td>True</td>\n",
       "      <td>True</td>\n",
       "    </tr>\n",
       "    <tr>\n",
       "      <th>6</th>\n",
       "      <td>448</td>\n",
       "      <td>canceled</td>\n",
       "      <td>2015-01-27</td>\n",
       "      <td>2015-03-10</td>\n",
       "      <td>42.0</td>\n",
       "      <td>True</td>\n",
       "      <td>True</td>\n",
       "    </tr>\n",
       "    <tr>\n",
       "      <th>10</th>\n",
       "      <td>429</td>\n",
       "      <td>canceled</td>\n",
       "      <td>2014-11-10</td>\n",
       "      <td>2015-03-10</td>\n",
       "      <td>120.0</td>\n",
       "      <td>False</td>\n",
       "      <td>True</td>\n",
       "    </tr>\n",
       "  </tbody>\n",
       "</table>\n",
       "</div>"
      ],
      "text/plain": [
       "    account_key    status  join_date cancel_date  days_to_cancel  is_udacity  \\\n",
       "0           448  canceled 2014-11-10  2015-01-14            65.0        True   \n",
       "4           448   current 2015-03-10         NaT             NaN        True   \n",
       "5           448  canceled 2015-01-14  2015-01-27            13.0        True   \n",
       "6           448  canceled 2015-01-27  2015-03-10            42.0        True   \n",
       "10          429  canceled 2014-11-10  2015-03-10           120.0       False   \n",
       "\n",
       "    is_canceled  \n",
       "0          True  \n",
       "4         False  \n",
       "5          True  \n",
       "6          True  \n",
       "10         True  "
      ]
     },
     "execution_count": 30,
     "metadata": {},
     "output_type": "execute_result"
    }
   ],
   "source": [
    "# Get the list of student who hasn't canceled yet\n",
    "# Student who stayed enrolled for more than 7days\n",
    "active_engaged_student = did_engagement_data[(did_engagement_data['days_to_cancel'] > 7) | (did_engagement_data['days_to_cancel'].isna())]\n",
    "print(f'The shape of activly engaged student is {active_engaged_student.shape}')\n",
    "print(f'While the numbers of distinct students involved is: {active_engaged_student.account_key.nunique()}')\n",
    "active_engaged_student.head()"
   ]
  },
  {
   "cell_type": "code",
   "execution_count": null,
   "id": "8883609b",
   "metadata": {},
   "outputs": [],
   "source": []
  }
 ],
 "metadata": {
  "kernelspec": {
   "display_name": "Python 3 (ipykernel)",
   "language": "python",
   "name": "python3"
  },
  "language_info": {
   "codemirror_mode": {
    "name": "ipython",
    "version": 3
   },
   "file_extension": ".py",
   "mimetype": "text/x-python",
   "name": "python",
   "nbconvert_exporter": "python",
   "pygments_lexer": "ipython3",
   "version": "3.9.12"
  }
 },
 "nbformat": 4,
 "nbformat_minor": 5
}
